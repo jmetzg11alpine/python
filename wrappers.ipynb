{
 "cells": [
  {
   "cell_type": "code",
   "execution_count": 6,
   "metadata": {},
   "outputs": [
    {
     "name": "stdout",
     "output_type": "stream",
     "text": [
      "hello_world.__name__        =  'wrapper'\n",
      "hello_world.__doc__         =  'Wrapper Function'\n",
      "hello_world.__annotations__ =  {}\n",
      "hello_world.__dict__        =  {}\n",
      "<function example_decorator.<locals>.wrapper at 0x7f0991637420>\n"
     ]
    }
   ],
   "source": [
    "def example_decorator(func):\n",
    "    def wrapper(*args, **kwargs):\n",
    "        \"\"\"Wrapper Function\"\"\"\n",
    "        return func(*args, **kwargs)\n",
    "    return wrapper\n",
    "\n",
    "@example_decorator\n",
    "def hello_world(planet: str = 'earth'):\n",
    "    '''Say hello to a world'''\n",
    "    print(f'Hello, {planet}!')\n",
    "\n",
    "print(f'{hello_world.__name__        =  }')\n",
    "print(f'{hello_world.__doc__         =  }')\n",
    "print(f'{hello_world.__annotations__ =  }')\n",
    "print(f'{hello_world.__dict__        =  }')\n",
    "print(hello_world)\n"
   ]
  },
  {
   "cell_type": "code",
   "execution_count": 8,
   "metadata": {},
   "outputs": [
    {
     "name": "stdout",
     "output_type": "stream",
     "text": [
      "hello_world.__name__        =  'hello_world'\n",
      "hello_world.__doc__         =  'Say hello to a world'\n",
      "hello_world.__annotations__ =  {'planet': <class 'str'>}\n",
      "hello_world.__dict__        =  {'__wrapped__': <function hello_world at 0x7f0991636e80>}\n",
      "<function hello_world at 0x7f0991637060>\n",
      "hello_world.__dict__[\"__wrapped__\"].__defaults__ =  ('earth',)\n"
     ]
    }
   ],
   "source": [
    "from functools import wraps\n",
    "\n",
    "def example_decorator(func):\n",
    "    @wraps(func)\n",
    "    def wrapper(*args, **kwargs):\n",
    "        '''Wrapper Function'''\n",
    "        return func(*args, **kwargs)\n",
    "    return wrapper\n",
    "\n",
    "@example_decorator\n",
    "def hello_world(planet: str='earth'):\n",
    "    '''Say hello to a world'''\n",
    "    print(f'Hello, {planet}!')\n",
    "\n",
    "print(f'{hello_world.__name__        =  }')\n",
    "print(f'{hello_world.__doc__         =  }')\n",
    "print(f'{hello_world.__annotations__ =  }')\n",
    "print(f'{hello_world.__dict__        =  }')\n",
    "print(f'{hello_world.__dict__[\"__wrapped__\"].__defaults__ =  }')\n",
    "print(hello_world)\n"
   ]
  },
  {
   "cell_type": "code",
   "execution_count": 10,
   "metadata": {},
   "outputs": [
    {
     "name": "stdout",
     "output_type": "stream",
     "text": [
      "hello_world.__defaults__ =  ('earth',)\n"
     ]
    }
   ],
   "source": [
    "MORE_WRAPPER_ASSIGNMENTS = (\n",
    "    '__module__', '__name__',\n",
    "    '__qualname__', '__annotations__',\n",
    "    '__doc__', '__defaults__',\n",
    "    '__kwdefaults__'\n",
    ")\n",
    "\n",
    "def example_decorator(func):\n",
    "    @wraps(func, assigned=MORE_WRAPPER_ASSIGNMENTS)\n",
    "    def wrapper(*args, **kwargs):\n",
    "        \"\"\"Wrapper function\"\"\"\n",
    "        return func(*args, **kwargs)\n",
    "    return wrapper\n",
    "\n",
    "@example_decorator\n",
    "def hello_world(planet: str='earth'):\n",
    "    \"\"\"Say hello to a world\"\"\"\n",
    "    print(f\"Hello, {planet}!\")\n",
    "\n",
    "print(f'{hello_world.__defaults__ =  }')\n"
   ]
  }
 ],
 "metadata": {
  "kernelspec": {
   "display_name": "venv",
   "language": "python",
   "name": "python3"
  },
  "language_info": {
   "codemirror_mode": {
    "name": "ipython",
    "version": 3
   },
   "file_extension": ".py",
   "mimetype": "text/x-python",
   "name": "python",
   "nbconvert_exporter": "python",
   "pygments_lexer": "ipython3",
   "version": "3.11.4"
  }
 },
 "nbformat": 4,
 "nbformat_minor": 2
}
